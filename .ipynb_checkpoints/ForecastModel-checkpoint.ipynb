{
 "cells": [
  {
   "cell_type": "markdown",
   "metadata": {},
   "source": [
    "# NOAA National Data Buoy Center\n",
    "\n",
    "<img style=\"float: right;\" src=\"DataSetSources.png\" width=\"500\">\n",
    "\n",
    "## Project Decription: Create a surf forecast model using NOAA buoy data\n",
    "\n",
    "## Links to Data:\n",
    "\n",
    "### [Edisto Offshore Data](https://www.ndbc.noaa.gov/station_history.php?station=41004)\n",
    "\n",
    "### [ENE Nassau Offshore Data](https://www.ndbc.noaa.gov/station_history.php?station=41047)\n",
    "\n",
    "### Team Members:\n",
    "\n",
    "### [*Jill Sirignano*](https://github.com/sirignanoj)\n",
    "\n",
    "### [*Evan Tanner*](https://github.com/surfevant)\n",
    "\n",
    "### [*Alex Swanson*](https://github.com/EyYoTony)"
   ]
  },
  {
   "cell_type": "code",
   "execution_count": 35,
   "metadata": {
    "scrolled": true
   },
   "outputs": [],
   "source": [
    "#import Libraries\n",
    "import os\n",
    "import pandas as pd\n",
    "\n",
    "#will have to change depending on relative os path\n",
    "os.chdir('/home/loki/Desktop/finalRepo/Data-Mining-Project/DataSets')\n",
    "\n",
    "#dataframes for feature extraction (need to clean)\n",
    "nsDf = pd.read_csv('EdistoNearshoreSC.csv')\n",
    "osDf = pd.read_csv('BahamasOffshore.csv')"
   ]
  },
  {
   "cell_type": "code",
   "execution_count": 34,
   "metadata": {},
   "outputs": [
    {
     "data": {
      "text/html": [
       "<div>\n",
       "<style scoped>\n",
       "    .dataframe tbody tr th:only-of-type {\n",
       "        vertical-align: middle;\n",
       "    }\n",
       "\n",
       "    .dataframe tbody tr th {\n",
       "        vertical-align: top;\n",
       "    }\n",
       "\n",
       "    .dataframe thead th {\n",
       "        text-align: right;\n",
       "    }\n",
       "</style>\n",
       "<table border=\"1\" class=\"dataframe\">\n",
       "  <thead>\n",
       "    <tr style=\"text-align: right;\">\n",
       "      <th></th>\n",
       "      <th>#YY  MM DD hh mm WDIR WSPD GST  WVHT   DPD   APD MWD   PRES  ATMP  WTMP  DEWP  VIS  TIDE</th>\n",
       "    </tr>\n",
       "  </thead>\n",
       "  <tbody>\n",
       "    <tr>\n",
       "      <th>0</th>\n",
       "      <td>#yr  mo dy hr mn degT m/s  m/s     m   sec   s...</td>\n",
       "    </tr>\n",
       "    <tr>\n",
       "      <th>1</th>\n",
       "      <td>2019 01 01 00 08 185  3.6  4.4 99.00 99.00 99....</td>\n",
       "    </tr>\n",
       "    <tr>\n",
       "      <th>2</th>\n",
       "      <td>2019 01 01 01 08 178  3.0  3.8 99.00 99.00 99....</td>\n",
       "    </tr>\n",
       "  </tbody>\n",
       "</table>\n",
       "</div>"
      ],
      "text/plain": [
       "  #YY  MM DD hh mm WDIR WSPD GST  WVHT   DPD   APD MWD   PRES  ATMP  WTMP  DEWP  VIS  TIDE\n",
       "0  #yr  mo dy hr mn degT m/s  m/s     m   sec   s...                                      \n",
       "1  2019 01 01 00 08 185  3.6  4.4 99.00 99.00 99....                                      \n",
       "2  2019 01 01 01 08 178  3.0  3.8 99.00 99.00 99....                                      "
      ]
     },
     "execution_count": 34,
     "metadata": {},
     "output_type": "execute_result"
    }
   ],
   "source": [
    "#Need to clean data\n",
    "nsDf.head(3)"
   ]
  },
  {
   "cell_type": "code",
   "execution_count": null,
   "metadata": {},
   "outputs": [],
   "source": []
  }
 ],
 "metadata": {
  "kernelspec": {
   "display_name": "Python 3",
   "language": "python",
   "name": "python3"
  },
  "language_info": {
   "codemirror_mode": {
    "name": "ipython",
    "version": 3
   },
   "file_extension": ".py",
   "mimetype": "text/x-python",
   "name": "python",
   "nbconvert_exporter": "python",
   "pygments_lexer": "ipython3",
   "version": "3.6.9"
  }
 },
 "nbformat": 4,
 "nbformat_minor": 4
}
