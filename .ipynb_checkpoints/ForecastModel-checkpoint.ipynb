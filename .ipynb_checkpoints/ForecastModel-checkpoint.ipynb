{
 "cells": [
  {
   "cell_type": "markdown",
   "metadata": {},
   "source": [
    "# NOAA National Data Buoy Center\n",
    "\n",
    "<img style=\"float: right;\" src=\"DataSetSources.png\" width=\"500\">\n",
    "\n",
    "## Project Decription: Create a surf forecast model using NOAA buoy data\n",
    "\n",
    "## Links to Data:\n",
    "\n",
    "### [Edisto Offshore Data](https://www.ndbc.noaa.gov/station_history.php?station=41004)\n",
    "\n",
    "### [ENE Nassau Offshore Data](https://www.ndbc.noaa.gov/station_history.php?station=41047)\n",
    "\n",
    "### Team Members:\n",
    "\n",
    "### [*Jill Sirignano*](https://github.com/sirignanoj)\n",
    "\n",
    "### [*Evan Tanner*](https://github.com/surfevant)\n",
    "\n",
    "### [*Alex Swanson*](https://github.com/EyYoTony)"
   ]
  },
  {
   "cell_type": "code",
   "execution_count": 9,
   "metadata": {
    "scrolled": true
   },
   "outputs": [],
   "source": [
    "#import Libraries\n",
    "import os\n",
    "import pandas as pd\n",
    "\n",
    "#will have to change depending on relative os path\n",
    "os.chdir('/home/loki/Desktop/Final_Project/Data-Mining-Project/DataSets')\n",
    "\n",
    "#dataframes for feature extraction (need to clean)\n",
    "nsDf = pd.read_csv('formatted_Edisto.csv')\n",
    "osDf = pd.read_csv('formatted_Bahamas.csv')"
   ]
  },
  {
   "cell_type": "code",
   "execution_count": 10,
   "metadata": {},
   "outputs": [
    {
     "data": {
      "text/plain": [
       "(8743, 18)"
      ]
     },
     "execution_count": 10,
     "metadata": {},
     "output_type": "execute_result"
    }
   ],
   "source": [
    "nsDf.shape"
   ]
  },
  {
   "cell_type": "code",
   "execution_count": 54,
   "metadata": {},
   "outputs": [
    {
     "data": {
      "text/plain": [
       "(8728, 18)"
      ]
     },
     "execution_count": 54,
     "metadata": {},
     "output_type": "execute_result"
    }
   ],
   "source": [
    "osDf.shape"
   ]
  },
  {
   "cell_type": "code",
   "execution_count": 52,
   "metadata": {},
   "outputs": [
    {
     "data": {
      "text/html": [
       "<div>\n",
       "<style scoped>\n",
       "    .dataframe tbody tr th:only-of-type {\n",
       "        vertical-align: middle;\n",
       "    }\n",
       "\n",
       "    .dataframe tbody tr th {\n",
       "        vertical-align: top;\n",
       "    }\n",
       "\n",
       "    .dataframe thead th {\n",
       "        text-align: right;\n",
       "    }\n",
       "</style>\n",
       "<table border=\"1\" class=\"dataframe\">\n",
       "  <thead>\n",
       "    <tr style=\"text-align: right;\">\n",
       "      <th></th>\n",
       "      <th>#YY</th>\n",
       "      <th>MM</th>\n",
       "      <th>DD</th>\n",
       "      <th>hh</th>\n",
       "      <th>mm</th>\n",
       "      <th>WDIR_degt</th>\n",
       "      <th>WSPD_ms</th>\n",
       "      <th>GST_ms</th>\n",
       "      <th>WVHT_m</th>\n",
       "      <th>DPD_sec</th>\n",
       "      <th>APD_sec</th>\n",
       "      <th>MWD_degt</th>\n",
       "      <th>PRES_hpa</th>\n",
       "      <th>ATMP_degc</th>\n",
       "      <th>WTMP_degc</th>\n",
       "      <th>DEWP_degc</th>\n",
       "      <th>VIS_mi</th>\n",
       "      <th>TIDE_ft</th>\n",
       "    </tr>\n",
       "  </thead>\n",
       "  <tbody>\n",
       "    <tr>\n",
       "      <th>0</th>\n",
       "      <td>2014</td>\n",
       "      <td>12</td>\n",
       "      <td>31</td>\n",
       "      <td>23</td>\n",
       "      <td>50</td>\n",
       "      <td>18</td>\n",
       "      <td>4.9</td>\n",
       "      <td>7.3</td>\n",
       "      <td>1.25</td>\n",
       "      <td>10.81</td>\n",
       "      <td>5.21</td>\n",
       "      <td>85</td>\n",
       "      <td>1027.7</td>\n",
       "      <td>11.3</td>\n",
       "      <td>23.4</td>\n",
       "      <td>3.5</td>\n",
       "      <td>99.0</td>\n",
       "      <td>99.0</td>\n",
       "    </tr>\n",
       "    <tr>\n",
       "      <th>1</th>\n",
       "      <td>2015</td>\n",
       "      <td>1</td>\n",
       "      <td>1</td>\n",
       "      <td>0</td>\n",
       "      <td>50</td>\n",
       "      <td>17</td>\n",
       "      <td>5.1</td>\n",
       "      <td>7.2</td>\n",
       "      <td>1.21</td>\n",
       "      <td>6.25</td>\n",
       "      <td>5.09</td>\n",
       "      <td>69</td>\n",
       "      <td>1027.9</td>\n",
       "      <td>11.4</td>\n",
       "      <td>23.2</td>\n",
       "      <td>3.3</td>\n",
       "      <td>99.0</td>\n",
       "      <td>99.0</td>\n",
       "    </tr>\n",
       "    <tr>\n",
       "      <th>2</th>\n",
       "      <td>2015</td>\n",
       "      <td>1</td>\n",
       "      <td>1</td>\n",
       "      <td>1</td>\n",
       "      <td>50</td>\n",
       "      <td>2</td>\n",
       "      <td>5.0</td>\n",
       "      <td>6.6</td>\n",
       "      <td>1.21</td>\n",
       "      <td>10.81</td>\n",
       "      <td>5.39</td>\n",
       "      <td>76</td>\n",
       "      <td>1028.2</td>\n",
       "      <td>11.3</td>\n",
       "      <td>22.9</td>\n",
       "      <td>1.8</td>\n",
       "      <td>99.0</td>\n",
       "      <td>99.0</td>\n",
       "    </tr>\n",
       "  </tbody>\n",
       "</table>\n",
       "</div>"
      ],
      "text/plain": [
       "    #YY  MM  DD  hh  mm  WDIR_degt  WSPD_ms  GST_ms  WVHT_m  DPD_sec  APD_sec  \\\n",
       "0  2014  12  31  23  50         18      4.9     7.3    1.25    10.81     5.21   \n",
       "1  2015   1   1   0  50         17      5.1     7.2    1.21     6.25     5.09   \n",
       "2  2015   1   1   1  50          2      5.0     6.6    1.21    10.81     5.39   \n",
       "\n",
       "   MWD_degt  PRES_hpa  ATMP_degc  WTMP_degc  DEWP_degc  VIS_mi  TIDE_ft  \n",
       "0        85    1027.7       11.3       23.4        3.5    99.0     99.0  \n",
       "1        69    1027.9       11.4       23.2        3.3    99.0     99.0  \n",
       "2        76    1028.2       11.3       22.9        1.8    99.0     99.0  "
      ]
     },
     "execution_count": 52,
     "metadata": {},
     "output_type": "execute_result"
    }
   ],
   "source": [
    "nsDf.head(3)"
   ]
  },
  {
   "cell_type": "code",
   "execution_count": 53,
   "metadata": {},
   "outputs": [
    {
     "data": {
      "text/html": [
       "<div>\n",
       "<style scoped>\n",
       "    .dataframe tbody tr th:only-of-type {\n",
       "        vertical-align: middle;\n",
       "    }\n",
       "\n",
       "    .dataframe tbody tr th {\n",
       "        vertical-align: top;\n",
       "    }\n",
       "\n",
       "    .dataframe thead th {\n",
       "        text-align: right;\n",
       "    }\n",
       "</style>\n",
       "<table border=\"1\" class=\"dataframe\">\n",
       "  <thead>\n",
       "    <tr style=\"text-align: right;\">\n",
       "      <th></th>\n",
       "      <th>#YY</th>\n",
       "      <th>MM</th>\n",
       "      <th>DD</th>\n",
       "      <th>hh</th>\n",
       "      <th>mm</th>\n",
       "      <th>WDIR_degt</th>\n",
       "      <th>WSPD_ms</th>\n",
       "      <th>GST_ms</th>\n",
       "      <th>WVHT_m</th>\n",
       "      <th>DPD_sec</th>\n",
       "      <th>APD_sec</th>\n",
       "      <th>MWD_degt</th>\n",
       "      <th>PRES_hpa</th>\n",
       "      <th>ATMP_degc</th>\n",
       "      <th>WTMP_degc</th>\n",
       "      <th>DEWP_degc</th>\n",
       "      <th>VIS_mi</th>\n",
       "      <th>TIDE_ft</th>\n",
       "    </tr>\n",
       "  </thead>\n",
       "  <tbody>\n",
       "    <tr>\n",
       "      <th>0</th>\n",
       "      <td>2014</td>\n",
       "      <td>12</td>\n",
       "      <td>31</td>\n",
       "      <td>23</td>\n",
       "      <td>50</td>\n",
       "      <td>97</td>\n",
       "      <td>1.8</td>\n",
       "      <td>2.7</td>\n",
       "      <td>1.24</td>\n",
       "      <td>8.33</td>\n",
       "      <td>5.75</td>\n",
       "      <td>4</td>\n",
       "      <td>1022.1</td>\n",
       "      <td>23.6</td>\n",
       "      <td>25.4</td>\n",
       "      <td>19.6</td>\n",
       "      <td>99.0</td>\n",
       "      <td>99.0</td>\n",
       "    </tr>\n",
       "    <tr>\n",
       "      <th>1</th>\n",
       "      <td>2015</td>\n",
       "      <td>1</td>\n",
       "      <td>1</td>\n",
       "      <td>0</td>\n",
       "      <td>50</td>\n",
       "      <td>94</td>\n",
       "      <td>1.6</td>\n",
       "      <td>2.3</td>\n",
       "      <td>1.29</td>\n",
       "      <td>7.14</td>\n",
       "      <td>5.89</td>\n",
       "      <td>100</td>\n",
       "      <td>1022.2</td>\n",
       "      <td>23.8</td>\n",
       "      <td>25.4</td>\n",
       "      <td>19.9</td>\n",
       "      <td>99.0</td>\n",
       "      <td>99.0</td>\n",
       "    </tr>\n",
       "    <tr>\n",
       "      <th>2</th>\n",
       "      <td>2015</td>\n",
       "      <td>1</td>\n",
       "      <td>1</td>\n",
       "      <td>1</td>\n",
       "      <td>50</td>\n",
       "      <td>168</td>\n",
       "      <td>0.1</td>\n",
       "      <td>0.4</td>\n",
       "      <td>1.22</td>\n",
       "      <td>8.33</td>\n",
       "      <td>5.96</td>\n",
       "      <td>11</td>\n",
       "      <td>1022.4</td>\n",
       "      <td>23.9</td>\n",
       "      <td>25.4</td>\n",
       "      <td>19.6</td>\n",
       "      <td>99.0</td>\n",
       "      <td>99.0</td>\n",
       "    </tr>\n",
       "  </tbody>\n",
       "</table>\n",
       "</div>"
      ],
      "text/plain": [
       "    #YY  MM  DD  hh  mm  WDIR_degt  WSPD_ms  GST_ms  WVHT_m  DPD_sec  APD_sec  \\\n",
       "0  2014  12  31  23  50         97      1.8     2.7    1.24     8.33     5.75   \n",
       "1  2015   1   1   0  50         94      1.6     2.3    1.29     7.14     5.89   \n",
       "2  2015   1   1   1  50        168      0.1     0.4    1.22     8.33     5.96   \n",
       "\n",
       "   MWD_degt  PRES_hpa  ATMP_degc  WTMP_degc  DEWP_degc  VIS_mi  TIDE_ft  \n",
       "0         4    1022.1       23.6       25.4       19.6    99.0     99.0  \n",
       "1       100    1022.2       23.8       25.4       19.9    99.0     99.0  \n",
       "2        11    1022.4       23.9       25.4       19.6    99.0     99.0  "
      ]
     },
     "execution_count": 53,
     "metadata": {},
     "output_type": "execute_result"
    }
   ],
   "source": [
    "osDf.head(3)"
   ]
  },
  {
   "cell_type": "code",
   "execution_count": 14,
   "metadata": {},
   "outputs": [
    {
     "data": {
      "text/plain": [
       "#YY            int64\n",
       "MM             int64\n",
       "DD             int64\n",
       "hh             int64\n",
       "mm             int64\n",
       "WDIR_degt      int64\n",
       "WSPD_ms      float64\n",
       "GST_ms       float64\n",
       "WVHT_m       float64\n",
       "DPD_sec      float64\n",
       "APD_sec      float64\n",
       "MWD_degt       int64\n",
       "PRES_hpa     float64\n",
       "ATMP_degc    float64\n",
       "WTMP_degc    float64\n",
       "DEWP_degc    float64\n",
       "VIS_mi       float64\n",
       "TIDE_ft      float64\n",
       "dtype: object"
      ]
     },
     "execution_count": 14,
     "metadata": {},
     "output_type": "execute_result"
    }
   ],
   "source": [
    "#checking data types(explore), same for nearshore and offshore\n",
    "nsDf.dtypes"
   ]
  },
  {
   "cell_type": "code",
   "execution_count": 23,
   "metadata": {},
   "outputs": [
    {
     "data": {
      "text/plain": [
       "0.95"
      ]
     },
     "execution_count": 23,
     "metadata": {},
     "output_type": "execute_result"
    }
   ],
   "source": [
    "#Most frequent wave height (not  mean value) below a meter lol\n",
    "nsDf['WVHT_m'].value_counts().idxmax()"
   ]
  },
  {
   "cell_type": "code",
   "execution_count": 24,
   "metadata": {},
   "outputs": [
    {
     "data": {
      "text/plain": [
       "1.11"
      ]
     },
     "execution_count": 24,
     "metadata": {},
     "output_type": "execute_result"
    }
   ],
   "source": [
    "#Most frequent wave height (not  mean value) 3.33 meters\n",
    "osDf['WVHT_m'].value_counts().idxmax()"
   ]
  },
  {
   "cell_type": "code",
   "execution_count": 51,
   "metadata": {},
   "outputs": [
    {
     "data": {
      "image/png": "[encoded data removed]",
      "text/plain": [
       "<Figure size 432x288 with 1 Axes>"
      ]
     },
     "metadata": {
      "needs_background": "light"
     },
     "output_type": "display_data"
    }
   ],
   "source": [
    "#the wave height for months in the year (nearshore)\n",
    "import matplotlib.pyplot as plt\n",
    "nsDf.plot(kind='scatter', x='MM', y='WVHT_m',ylim=(0,8))\n",
    "plt.title('Nearshore Wave Height Per Month')\n",
    "plt.show()"
   ]
  },
  {
   "cell_type": "code",
   "execution_count": 49,
   "metadata": {},
   "outputs": [
    {
     "data": {
      "image/png": "[encoded data removed]",
      "text/plain": [
       "<Figure size 432x288 with 1 Axes>"
      ]
     },
     "metadata": {
      "needs_background": "light"
     },
     "output_type": "display_data"
    }
   ],
   "source": [
    "#the wave height for months in the year (offshore)\n",
    "import matplotlib.pyplot as plt\n",
    "osDf.plot(kind='scatter', x='MM', y='WVHT_m',ylim=(0,10))\n",
    "plt.title('Offshore Wave Height Per Month')\n",
    "plt.show()"
   ]
  }
 ],
 "metadata": {
  "kernelspec": {
   "display_name": "Python 3",
   "language": "python",
   "name": "python3"
  },
  "language_info": {
   "codemirror_mode": {
    "name": "ipython",
    "version": 3
   },
   "file_extension": ".py",
   "mimetype": "text/x-python",
   "name": "python",
   "nbconvert_exporter": "python",
   "pygments_lexer": "ipython3",
   "version": "3.6.9"
  }
 },
 "nbformat": 4,
 "nbformat_minor": 4
}
