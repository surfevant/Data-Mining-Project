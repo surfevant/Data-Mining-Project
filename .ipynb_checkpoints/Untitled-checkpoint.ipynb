{
 "cells": [
  {
   "cell_type": "markdown",
   "metadata": {},
   "source": [
    "# NOAA National Data Buoy Center\n",
    "\n",
    "<img style=\"float: right;\" src=\"DataSetSources.png\" width=\"500\">\n",
    "\n",
    "## Project Decription: Create a surf forecast model using NOAA buoy data\n",
    "\n",
    "## Links to Data:\n",
    "\n",
    "### [Edisto Offshore Data](https://www.ndbc.noaa.gov/station_history.php?station=41004)\n",
    "\n",
    "### [Capers Nearshore Data](https://www.ndbc.noaa.gov/station_history.php?station=41029)\n",
    "\n",
    "### Team Members:\n",
    "\n",
    "### [*Jill Sirignano*](https://github.com/sirignanoj)\n",
    "\n",
    "### [*Evan Tanner*](https://github.com/surfevant)\n",
    "\n",
    "### [*Alex Swanson*](https://github.com/EyYoTony)"
   ]
  },
  {
   "cell_type": "code",
   "execution_count": null,
   "metadata": {},
   "outputs": [],
   "source": []
  },
  {
   "cell_type": "code",
   "execution_count": null,
   "metadata": {},
   "outputs": [],
   "source": []
  }
 ],
 "metadata": {
  "kernelspec": {
   "display_name": "Python 3",
   "language": "python",
   "name": "python3"
  },
  "language_info": {
   "codemirror_mode": {
    "name": "ipython",
    "version": 3
   },
   "file_extension": ".py",
   "mimetype": "text/x-python",
   "name": "python",
   "nbconvert_exporter": "python",
   "pygments_lexer": "ipython3",
   "version": "3.6.9"
  }
 },
 "nbformat": 4,
 "nbformat_minor": 4
}
